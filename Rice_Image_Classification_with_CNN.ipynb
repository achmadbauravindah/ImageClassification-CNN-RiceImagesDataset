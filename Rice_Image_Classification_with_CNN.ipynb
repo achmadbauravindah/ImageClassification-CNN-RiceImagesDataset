{
  "cells": [
    {
      "cell_type": "markdown",
      "metadata": {
        "id": "view-in-github",
        "colab_type": "text"
      },
      "source": [
        "<a href=\"https://colab.research.google.com/github/achmadbauravindah/ImageClassification-CNN-RiceImagesDataset/blob/main/Rice_Image_Classification_with_CNN.ipynb\" target=\"_parent\"><img src=\"https://colab.research.google.com/assets/colab-badge.svg\" alt=\"Open In Colab\"/></a>"
      ]
    },
    {
      "cell_type": "code",
      "execution_count": null,
      "metadata": {
        "id": "f1_2PUhGeo7n"
      },
      "outputs": [],
      "source": [
        "# Import library yang diperlukan\n",
        "import tensorflow as tf\n",
        "from tensorflow.keras import layers, models\n",
        "import matplotlib.pyplot as plt\n",
        "import numpy as np\n",
        "import cv2 # Untuk mengambil pixel dari image"
      ]
    },
    {
      "cell_type": "code",
      "execution_count": null,
      "metadata": {
        "id": "AeHqZyfujsBZ"
      },
      "outputs": [],
      "source": [
        "_ = !git clone https://github.com/AchmadBauravindah/datas_for_ai.git"
      ]
    },
    {
      "cell_type": "code",
      "execution_count": null,
      "metadata": {
        "id": "8AK4ZKck6gg_"
      },
      "outputs": [],
      "source": [
        "path = \"datas_for_ai/sdt/Rice_Image_Dataset_Lite/\""
      ]
    },
    {
      "cell_type": "code",
      "execution_count": null,
      "metadata": {
        "id": "6gAwWv9qjOOc"
      },
      "outputs": [],
      "source": [
        "# Mendapatkan pixel image\n",
        "def getImage(path, kind, index):\n",
        "  path = path + kind + '/'\n",
        "  image_filename = path + kind + '_' + str(index) + '.jpg'\n",
        "  image = cv2.imread(image_filename)\n",
        "  return image"
      ]
    },
    {
      "cell_type": "code",
      "execution_count": null,
      "metadata": {
        "id": "sLdxjkXJ0hev"
      },
      "outputs": [],
      "source": [
        "# Split data into Training and Test Dataset\n",
        "kinds = [\"Arborio\", \"Basmati\", \"Ipsala\", \"Jasmine\", \"Karacadag\"] # Kinds/Classes of Rice\n",
        "def splitData(path, kinds):\n",
        "  X_train = []\n",
        "  X_test = []\n",
        "  y_train = []\n",
        "  y_test = []\n",
        "  y_index = 0\n",
        "  n_image_per_kelas = 1000\n",
        "  for kind in kinds:\n",
        "    for i in range(1, n_image_per_kelas+1):\n",
        "      image = getImage(path, kind, i)\n",
        "      if i <= 800: # Image in training data is 800\n",
        "        X_train.append(image) # Add pixel to array X_train\n",
        "        y_train.append(y_index) # Add index of labels to y_train\n",
        "      else:  # Image in test data is 200\n",
        "        X_test.append(image) # Add pixel to array X_test\n",
        "        y_test.append(y_index) # Add index of labels to y_test\n",
        "    y_index = y_index + 1 # Untuk \n",
        "  return X_train, y_train, X_test, y_test"
      ]
    },
    {
      "cell_type": "code",
      "execution_count": null,
      "metadata": {
        "id": "0HF0bYgi1WF5"
      },
      "outputs": [],
      "source": [
        "# Split Data Process\n",
        "X_train, y_train, X_test, y_test = splitData(path, kinds)"
      ]
    },
    {
      "cell_type": "code",
      "execution_count": null,
      "metadata": {
        "id": "tnDiHyiK5pN6"
      },
      "outputs": [],
      "source": [
        "# Mengubah list biasa ke numpy agar bisa diproses di model CNN\n",
        "X_train = np.array(X_train, dtype=\"uint8\")\n",
        "X_test = np.array(X_test, dtype=\"uint8\")\n",
        "y_train = np.array(y_train)\n",
        "y_test = np.array(y_test)"
      ]
    },
    {
      "cell_type": "code",
      "execution_count": null,
      "metadata": {
        "colab": {
          "base_uri": "https://localhost:8080/"
        },
        "id": "zjSim227nygg",
        "outputId": "9302671a-1545-4579-e06f-1b2d12b74900"
      },
      "outputs": [
        {
          "output_type": "stream",
          "name": "stdout",
          "text": [
            "Shape:\n",
            "X_train (4000, 250, 250, 3)\n",
            "X_test (1000, 250, 250, 3)\n",
            "y_train (4000,)\n",
            "y_test (1000,)\n"
          ]
        }
      ],
      "source": [
        "print(\"Shape:\")\n",
        "print(\"X_train\", X_train.shape)\n",
        "print(\"X_test\", X_test.shape)\n",
        "print(\"y_train\", y_train.shape)\n",
        "print(\"y_test\", y_test.shape)"
      ]
    },
    {
      "cell_type": "code",
      "execution_count": null,
      "metadata": {
        "id": "4fz3DzXSgF_l"
      },
      "outputs": [],
      "source": [
        "# Untuk menampilkan image berdasarkan index\n",
        "def showImage(X, y, index):\n",
        "  plt.figure(figsize = (15,2))\n",
        "  plt.imshow(X[index])\n",
        "  plt.xlabel(kinds[y[index]])"
      ]
    },
    {
      "cell_type": "code",
      "execution_count": null,
      "metadata": {
        "colab": {
          "base_uri": "https://localhost:8080/",
          "height": 174
        },
        "id": "kb_jOyDfk_fY",
        "outputId": "67cb6d84-b02f-4633-85da-daddbcaec582"
      },
      "outputs": [
        {
          "output_type": "display_data",
          "data": {
            "text/plain": [
              "<Figure size 1080x144 with 1 Axes>"
            ],
            "image/png": "[encoded data removed]"
          },
          "metadata": {
            "needs_background": "light"
          }
        }
      ],
      "source": [
        "showImage(X_test, y_test, 200)"
      ]
    },
    {
      "cell_type": "code",
      "execution_count": null,
      "metadata": {
        "id": "2TZrnQFqmc0r"
      },
      "outputs": [],
      "source": [
        "# Normalisasi\n",
        "X_train = X_train/255\n",
        "X_test = X_test/255"
      ]
    },
    {
      "cell_type": "code",
      "execution_count": null,
      "metadata": {
        "id": "LhGIjrMim1Gk"
      },
      "outputs": [],
      "source": [
        "# Model CNN\n",
        "cnn = models.Sequential([\n",
        "        # cnn\n",
        "        layers.Conv2D(filters=5, kernel_size=(3,3), activation='relu', input_shape=(250,250,3)),\n",
        "        layers.MaxPooling2D((2,2)),\n",
        "\n",
        "        layers.Conv2D(filters=7, kernel_size=(3,3), activation='relu'),\n",
        "        layers.MaxPooling2D((2,2)),\n",
        "\n",
        "        # dense\n",
        "        layers.Flatten(),\n",
        "        layers.Dense(10, activation='relu'),\n",
        "        layers.Dense(5, activation='softmax')\n",
        "])"
      ]
    },
    {
      "cell_type": "code",
      "execution_count": null,
      "metadata": {
        "colab": {
          "base_uri": "https://localhost:8080/"
        },
        "id": "t7alhzu405m_",
        "outputId": "f64625a9-537f-4d85-f797-84792ac18925"
      },
      "outputs": [
        {
          "output_type": "stream",
          "name": "stdout",
          "text": [
            "Model: \"sequential\"\n",
            "_________________________________________________________________\n",
            " Layer (type)                Output Shape              Param #   \n",
            "=================================================================\n",
            " conv2d (Conv2D)             (None, 248, 248, 5)       140       \n",
            "                                                                 \n",
            " max_pooling2d (MaxPooling2D  (None, 124, 124, 5)      0         \n",
            " )                                                               \n",
            "                                                                 \n",
            " conv2d_1 (Conv2D)           (None, 122, 122, 7)       322       \n",
            "                                                                 \n",
            " max_pooling2d_1 (MaxPooling  (None, 61, 61, 7)        0         \n",
            " 2D)                                                             \n",
            "                                                                 \n",
            " flatten (Flatten)           (None, 26047)             0         \n",
            "                                                                 \n",
            " dense (Dense)               (None, 10)                260480    \n",
            "                                                                 \n",
            " dense_1 (Dense)             (None, 5)                 55        \n",
            "                                                                 \n",
            "=================================================================\n",
            "Total params: 260,997\n",
            "Trainable params: 260,997\n",
            "Non-trainable params: 0\n",
            "_________________________________________________________________\n"
          ]
        }
      ],
      "source": [
        "# Summary CNN Model\n",
        "cnn.summary()"
      ]
    },
    {
      "cell_type": "code",
      "execution_count": null,
      "metadata": {
        "id": "yG5jAJQJqTrS"
      },
      "outputs": [],
      "source": [
        "# Configure CNN Model\n",
        "cnn.compile(optimizer='adam', \n",
        "            loss='sparse_categorical_crossentropy', \n",
        "            metrics=['accuracy'],\n",
        "            )"
      ]
    },
    {
      "cell_type": "code",
      "execution_count": null,
      "metadata": {
        "id": "v6AFt5H_qoWs",
        "colab": {
          "base_uri": "https://localhost:8080/"
        },
        "outputId": "85ed7271-ff82-4f74-fb47-47ea3e96a77b"
      },
      "outputs": [
        {
          "output_type": "stream",
          "name": "stdout",
          "text": [
            "Epoch 1/5\n",
            "125/125 [==============================] - 104s 823ms/step - loss: 0.3669 - accuracy: 0.8645\n",
            "Epoch 2/5\n",
            "125/125 [==============================] - 101s 805ms/step - loss: 0.0530 - accuracy: 0.9825\n",
            "Epoch 3/5\n",
            "125/125 [==============================] - 105s 837ms/step - loss: 0.0446 - accuracy: 0.9835\n",
            "Epoch 4/5\n",
            "125/125 [==============================] - 102s 814ms/step - loss: 0.0301 - accuracy: 0.9893\n",
            "Epoch 5/5\n",
            "125/125 [==============================] - 100s 797ms/step - loss: 0.0227 - accuracy: 0.9915\n"
          ]
        },
        {
          "output_type": "execute_result",
          "data": {
            "text/plain": [
              "<keras.callbacks.History at 0x7fb4b4971fd0>"
            ]
          },
          "metadata": {},
          "execution_count": 15
        }
      ],
      "source": [
        "# Training CNN Model\n",
        "cnn.fit(X_train, y_train, epochs=5)"
      ]
    },
    {
      "cell_type": "code",
      "execution_count": null,
      "metadata": {
        "id": "5CM-FyhI2RHy"
      },
      "outputs": [],
      "source": [
        "# Karena predic isinya adalah array per kelas, seperti [0.1, 0.2, 0.6, 0.8, 0.3], \n",
        "# yang diambil adalah index yang memiliki value yang paling besar karena keluaran dari softmax\n",
        "y_test_predict = cnn.predict(X_test) # Proses prediksi yang menghasilkan 5 nilai dalam array\n",
        "y_test_predict = [np.argmax(element) for element in y_test_predict] # Mencari value terbesar dan menyimpan indexnya"
      ]
    },
    {
      "cell_type": "code",
      "execution_count": null,
      "metadata": {
        "id": "WxlpkGnB8N9x"
      },
      "outputs": [],
      "source": [
        "# Mendapatkan Confusion Matrix\n",
        "from sklearn.metrics import confusion_matrix\n",
        "\n",
        "cm = confusion_matrix(y_test, y_test_predict)"
      ]
    },
    {
      "cell_type": "code",
      "execution_count": null,
      "metadata": {
        "id": "-wqv726c-Ghd"
      },
      "outputs": [],
      "source": [
        "def showPlotCM(cm):\n",
        "  # Show Confusion Matrix\n",
        "  fig, ax = plt.subplots(figsize=(3, 3), constrained_layout=\"True\")\n",
        "  ax.matshow(cm, cmap=plt.cm.Blues, alpha=0.3)\n",
        "  for i in range(cm.shape[0]):\n",
        "      for j in range(cm.shape[1]):\n",
        "          ax.text(x=j, y=i, s=cm[i, j], va='center', ha='center')        \n",
        "  plt.xlabel('Predictions', fontsize=12)\n",
        "  plt.ylabel('Actuals', fontsize=12)\n",
        "  plt.title('Confusion Matrix', fontsize=12)\n",
        "  plt.show()"
      ]
    },
    {
      "cell_type": "code",
      "execution_count": null,
      "metadata": {
        "id": "9uL3XJda-tGf",
        "colab": {
          "base_uri": "https://localhost:8080/",
          "height": 241
        },
        "outputId": "c2638f22-620e-437b-d2f5-334740ab3a05"
      },
      "outputs": [
        {
          "output_type": "display_data",
          "data": {
            "text/plain": [
              "<Figure size 216x216 with 1 Axes>"
            ],
            "image/png": "[encoded data removed]"
          },
          "metadata": {
            "needs_background": "light"
          }
        }
      ],
      "source": [
        "showPlotCM(cm)"
      ]
    }
  ],
  "metadata": {
    "colab": {
      "name": "Rice Image Classification with CNN.ipynb",
      "provenance": [],
      "collapsed_sections": [],
      "authorship_tag": "ABX9TyNEaaGW5TvCLhXIu9eIbjF8",
      "include_colab_link": true
    },
    "gpuClass": "standard",
    "kernelspec": {
      "display_name": "Python 3",
      "name": "python3"
    },
    "language_info": {
      "name": "python"
    }
  },
  "nbformat": 4,
  "nbformat_minor": 0
}